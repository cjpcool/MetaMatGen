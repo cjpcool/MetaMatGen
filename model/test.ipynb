{
 "cells": [
  {
   "cell_type": "code",
   "execution_count": 9,
   "metadata": {},
   "outputs": [
    {
     "name": "stdout",
     "output_type": "stream",
     "text": [
      "[0, 1, 2, 3, 4, 6, 7, 8]\n",
      "[0, 3, 4, 8]\n"
     ]
    },
    {
     "data": {
      "text/plain": [
       "tensor([[[1.0000, 1.0000, 1.0000],\n",
       "         [1.0000, 0.0000, 1.0000],\n",
       "         [1.0000, 1.0000, 0.0000],\n",
       "         [0.0000, 1.0000, 1.0000],\n",
       "         [0.5000, 0.5000, 0.5000]]])"
      ]
     },
     "execution_count": 9,
     "metadata": {},
     "output_type": "execute_result"
    }
   ],
   "source": [
    "import torch\n",
    "def find_corners_index(coords):\n",
    "        corners = []  #index of 4 corners\n",
    "        center = torch.mean(coords,dim=0)\n",
    "        for i in range(9):\n",
    "            if torch.norm(coords[i,:] - center) < 1e-6:\n",
    "                continue\n",
    "            corners.append(i)\n",
    "        selected_corners = [corners[0]] #4 selected corners to represent the lattice\n",
    "        for i in range(1,8):\n",
    "            for j in range(1,8):\n",
    "                for k in range(1,8):\n",
    "                    if torch.norm((coords[corners[0],:]-coords[corners[i],:]-coords[corners[j],:]+coords[corners[k],:])) < 1e-6:\n",
    "                        if torch.norm((coords[corners[0],:]+coords[corners[i],:]+coords[corners[j],:]+coords[corners[k],:])-4*center) > 1e-6:\n",
    "                            for h in range(1,8):\n",
    "                                if torch.norm((coords[corners[k],:]+coords[corners[h],:])-2*center) < 1e-6:\n",
    "                                    return corners, selected_corners + [corners[i],corners[j],corners[h]]\n",
    "        return corners, [0,1,2,3]\n",
    "def shrink_coords(ini_coords,batch_size):\n",
    "        reshaped_coords = ini_coords.view(batch_size,-1,3)\n",
    "        num_node = reshaped_coords.shape[1]\n",
    "        result = torch.zeros((batch_size,5,3))\n",
    "        for i in range(batch_size):\n",
    "            corners, selected_corners = find_corners_index(reshaped_coords[i,:,:])\n",
    "            print(corners)\n",
    "            print(selected_corners)\n",
    "            for j in range(4):\n",
    "                result[i,j,:] = reshaped_coords[i,selected_corners[j],:]\n",
    "            position = 4\n",
    "            for j in range(num_node):\n",
    "                if j not in corners:\n",
    "                    result[i,position,:] = reshaped_coords[i,j,:]\n",
    "                    position += 1\n",
    "        return result\n",
    "a = torch.tensor([[[1,1,1],[0,0,0],[1,0,0],[1,0,1],[1,1,0],[0.5,0.5,0.5],[0,0,1],[0,1,0],[0,1,1]]])\n",
    "b = shrink_coords(a,1)\n",
    "b"
   ]
  },
  {
   "cell_type": "code",
   "execution_count": 10,
   "metadata": {},
   "outputs": [
    {
     "data": {
      "text/plain": [
       "array([-2.77555756e-17,  0.00000000e+00, -2.77555756e-17])"
      ]
     },
     "execution_count": 10,
     "metadata": {},
     "output_type": "execute_result"
    }
   ],
   "source": [
    "import numpy as np\n",
    "a = np.array([[ 0.1282, -0.0223,  0.1897],\n",
    "        [ 0.1367, -0.0853,  0.1490],\n",
    "        [-0.1878,  0.0074, -0.0320],\n",
    "        [ 0.1793,  0.0556,  0.0727],\n",
    "        [ 0.0000,  0.0000,  0.0000]])\n",
    "c = a[1] + a[2] - a[0] + a[3] - a[0]\n",
    "c + a[0]"
   ]
  }
 ],
 "metadata": {
  "kernelspec": {
   "display_name": "Python 3",
   "language": "python",
   "name": "python3"
  },
  "language_info": {
   "codemirror_mode": {
    "name": "ipython",
    "version": 3
   },
   "file_extension": ".py",
   "mimetype": "text/x-python",
   "name": "python",
   "nbconvert_exporter": "python",
   "pygments_lexer": "ipython3",
   "version": "3.9.13"
  }
 },
 "nbformat": 4,
 "nbformat_minor": 2
}
